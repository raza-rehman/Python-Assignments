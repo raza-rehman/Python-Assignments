{
 "cells": [
  {
   "cell_type": "code",
   "execution_count": 1,
   "metadata": {},
   "outputs": [
    {
     "name": "stdout",
     "output_type": "stream",
     "text": [
      "Enter First Number: 54\n",
      "Enter Second Number: 34\n",
      "Enter Operator: -\n",
      "Substraction Result: 20\n"
     ]
    }
   ],
   "source": [
    "#1. Make a calculator using Python with addition , subtraction , multiplication , division and power.\n",
    "\n",
    "number1=int(input(\"Enter First Number: \"))\n",
    "number2=int(input(\"Enter Second Number: \"))\n",
    "operator=input(\"Enter Operator: \")\n",
    "if(operator=='+'):\n",
    "    print(\"Sum Result: \"+str(number1+number2))\n",
    "elif(operator=='-'):\n",
    "    print(\"Substraction Result: \"+str(number1-number2))\n",
    "elif(operator=='*'):\n",
    "    print(\"Multiply Result: \"+str(number1*number2))\n",
    "elif(operator=='/'):\n",
    "    print(\"Divide Result: \"+str(number1/number2))\n",
    "elif(operator=='**'):\n",
    "    print(\"Power Result: \"+str(number1**number2))\n",
    "else:\n",
    "    print(\"Please Enter Correct Number!\")"
   ]
  },
  {
   "cell_type": "code",
   "execution_count": 2,
   "metadata": {},
   "outputs": [
    {
     "name": "stdout",
     "output_type": "stream",
     "text": [
      "String: hbfs\n",
      "Number: 134\n",
      "String: 8872\n",
      "String: cbf\n",
      "Number: 1343\n",
      "Number: 239\n",
      "Number: 232\n",
      "String: 67wwer\n"
     ]
    }
   ],
   "source": [
    "#2. Write a program to check if there is any numeric value in list using for loop\n",
    "\n",
    "testList=[\"hbfs\",134,\"8872\",\"cbf\",1343,239,232,\"67wwer\"]\n",
    "for testElement in testList:\n",
    "    if(type(testElement)==int):\n",
    "        print(\"Number: \"+str(testElement))\n",
    "    else:\n",
    "        print(\"String: \"+testElement)"
   ]
  },
  {
   "cell_type": "code",
   "execution_count": 3,
   "metadata": {},
   "outputs": [
    {
     "data": {
      "text/plain": [
       "{'strkey': 'strvalue', 'zerokey': 34343, 'onekey': 75644, 'twokey': 7873}"
      ]
     },
     "execution_count": 3,
     "metadata": {},
     "output_type": "execute_result"
    }
   ],
   "source": [
    "#3. Write a Python script to add a key to a dictionary\n",
    "\n",
    "dict={'strkey':'strvalue','zerokey':34343,'onekey':75644}\n",
    "dict['twokey']=7873\n",
    "dict"
   ]
  },
  {
   "cell_type": "code",
   "execution_count": 5,
   "metadata": {},
   "outputs": [
    {
     "name": "stdout",
     "output_type": "stream",
     "text": [
      "Sum Result: 423\n"
     ]
    }
   ],
   "source": [
    "#Write a Python program to sum all the numeric items in a dictionary\n",
    "\n",
    "testList={\"sfss\": 34,\"3432\":\"sdf\",\"cfvg\":389,\"h234\" :\"3243wer\"}\n",
    "sum=0\n",
    "for testElement in testList.values():\n",
    "    if(type(testElement)==int):\n",
    "        sum=sum+testElement\n",
    "print(\"Sum Result: \"+str(sum))"
   ]
  },
  {
   "cell_type": "code",
   "execution_count": 7,
   "metadata": {},
   "outputs": [
    {
     "data": {
      "text/plain": [
       "{134, '8872', 'cbf'}"
      ]
     },
     "execution_count": 7,
     "metadata": {},
     "output_type": "execute_result"
    }
   ],
   "source": [
    "#5. Write a program to identify duplicate values from list\n",
    "\n",
    "testList=[\"hbfs\",134,\"8872\",\"cbf\",1343,239,134,\"8872\",\"cbf\",\"67wwer\"]\n",
    "set([x for x in testList if testList.count(x)>1])"
   ]
  },
  {
   "cell_type": "code",
   "execution_count": 14,
   "metadata": {},
   "outputs": [
    {
     "name": "stdout",
     "output_type": "stream",
     "text": [
      "Present: 2\n",
      "Not Present: 6\n",
      "Present: 7\n",
      "Not Present: 67\n"
     ]
    }
   ],
   "source": [
    "#6. Write a Python script to check if a given key already exists in a dictionary\n",
    "\n",
    "dict={13:34,45:34,2:34,76:34,3:34,7:34,4:34,3:34,4:34,2:34}\n",
    "def isKeyPresent(key):\n",
    "    if key in dict:\n",
    "        print(\"Present: \"+str(key))\n",
    "    else:\n",
    "        print(\"Not Present: \"+str(key))\n",
    "        \n",
    "isKeyPresent(2)\n",
    "isKeyPresent(6)\n",
    "isKeyPresent(7)\n",
    "isKeyPresent(67)"
   ]
  },
  {
   "cell_type": "code",
   "execution_count": null,
   "metadata": {},
   "outputs": [],
   "source": []
  },
  {
   "cell_type": "code",
   "execution_count": null,
   "metadata": {},
   "outputs": [],
   "source": []
  }
 ],
 "metadata": {
  "kernelspec": {
   "display_name": "Python 3",
   "language": "python",
   "name": "python3"
  },
  "language_info": {
   "codemirror_mode": {
    "name": "ipython",
    "version": 3
   },
   "file_extension": ".py",
   "mimetype": "text/x-python",
   "name": "python",
   "nbconvert_exporter": "python",
   "pygments_lexer": "ipython3",
   "version": "3.6.7"
  }
 },
 "nbformat": 4,
 "nbformat_minor": 2
}
