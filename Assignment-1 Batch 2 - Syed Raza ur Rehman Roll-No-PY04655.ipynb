{
 "cells": [
  {
   "cell_type": "code",
   "execution_count": 1,
   "metadata": {},
   "outputs": [
    {
     "name": "stdout",
     "output_type": "stream",
     "text": [
      "Twinkle, twinkle, little star,\n",
      "\tHow I wonder what you are!\n",
      "\t\tUp above the world so high,\n",
      "\t\tLike a diamond in the sky.\n",
      "Twinkle, twinkle, little star,\n",
      "\tHow I wonder what you are\n"
     ]
    }
   ],
   "source": [
    "#Question # 1: Write a Python program to print the following string in a specific format (see the output).\n",
    "print(\"Twinkle, twinkle, little star,\\n\\t\"\n",
    "      \"How I wonder what you are!\\n\\t\\t\"\n",
    "      \"Up above the world so high,\\n\\t\\t\"\n",
    "      \"Like a diamond in the sky.\\n\"\n",
    "      \"Twinkle, twinkle, little star,\\n\\t\"\n",
    "      \"How I wonder what you are\")"
   ]
  },
  {
   "cell_type": "code",
   "execution_count": 2,
   "metadata": {},
   "outputs": [
    {
     "name": "stdout",
     "output_type": "stream",
     "text": [
      "3.6.7 | packaged by conda-forge | (default, Jul  2 2019, 02:18:42) \n",
      "[GCC 7.3.0]\n"
     ]
    }
   ],
   "source": [
    "#Question # 2: Write a Python program to get the Python version you are using\n",
    "import sys\n",
    "print(sys.version)"
   ]
  },
  {
   "cell_type": "code",
   "execution_count": 3,
   "metadata": {},
   "outputs": [],
   "source": [
    "#Question # 3: Write a Python program to display the current date and time\n",
    "import os , datetime\n",
    "from datetime import date, datetime"
   ]
  },
  {
   "cell_type": "code",
   "execution_count": 4,
   "metadata": {},
   "outputs": [
    {
     "name": "stdout",
     "output_type": "stream",
     "text": [
      "Enter radius of circle55\n",
      "9498.500000000002\n"
     ]
    }
   ],
   "source": [
    "#Question # 4: Write a Python program which accepts the radius of a circle from the user and compute the area\n",
    "PI=3.14\n",
    "radius=float(input(\"Enter radius of circle\"))\n",
    "area_of_circle=PI*radius*radius\n",
    "print(area_of_circle)"
   ]
  },
  {
   "cell_type": "code",
   "execution_count": 5,
   "metadata": {},
   "outputs": [
    {
     "name": "stdout",
     "output_type": "stream",
     "text": [
      "Enter First Name: Syed Raza\n",
      "Enter Last Name: ur Rehman\n",
      "ur Rehman Syed Raza\n"
     ]
    }
   ],
   "source": [
    "#Question # 5: Write a Python program which accepts the user's first and last name and print them in reverse order with a space between them.\n",
    "firstName=input(\"Enter First Name: \")\n",
    "lastName=input(\"Enter Last Name: \")\n",
    "print(lastName+\" \"+firstName)"
   ]
  },
  {
   "cell_type": "code",
   "execution_count": 6,
   "metadata": {},
   "outputs": [
    {
     "name": "stdout",
     "output_type": "stream",
     "text": [
      "Enter first number: 32\n",
      "Enter second number: 56\n",
      "88\n"
     ]
    }
   ],
   "source": [
    "#Question # 6: Write a python program which takes two inputs from user and print them addition\n",
    "firstNumber=int(input(\"Enter first number: \"))\n",
    "secondNumber=int(input(\"Enter second number: \"))\n",
    "print(firstNumber+secondNumber)"
   ]
  },
  {
   "cell_type": "code",
   "execution_count": null,
   "metadata": {},
   "outputs": [],
   "source": []
  }
 ],
 "metadata": {
  "kernelspec": {
   "display_name": "Python 3",
   "language": "python",
   "name": "python3"
  },
  "language_info": {
   "codemirror_mode": {
    "name": "ipython",
    "version": 3
   },
   "file_extension": ".py",
   "mimetype": "text/x-python",
   "name": "python",
   "nbconvert_exporter": "python",
   "pygments_lexer": "ipython3",
   "version": "3.6.7"
  }
 },
 "nbformat": 4,
 "nbformat_minor": 2
}
