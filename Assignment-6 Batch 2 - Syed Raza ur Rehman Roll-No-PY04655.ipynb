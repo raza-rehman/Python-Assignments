{
 "cells": [
  {
   "cell_type": "code",
   "execution_count": 10,
   "metadata": {},
   "outputs": [],
   "source": [
    "# ANSWER#1\n",
    "\n",
    "# Object-oriented programming (OOP) refers to a type of computer programming (software design) in which programmers define the data type of a data structure, and also the types of operations (functions) that can be applied to the data structure.\n",
    "\n",
    "# In this way, the data structure becomes an object that includes both data and functions. In addition, programmers can create relationships between one object and another. For example, objects can inherit characteristics from other objects.\n",
    "\n",
    "# ANSWER#2\n",
    "\n",
    "# OOP allows to break software into smaller parts (like machine into components). Those can be then designed separately, tested and re-used. Bigger problems are broken into smaller ones, which are then easier to solve. It all results in:\n",
    "# cleaner code,\n",
    "# better architecture,\n",
    "# abstraction layers,\n",
    "# modular solutions,\n",
    "# smaller amount of bugs,\n",
    "# easier refactoring,\n",
    "# easier on-boarding of new members.\n",
    "# All the above has also significant economical impact.\n",
    "\n",
    "#ANSWER#3\n",
    "\n",
    "# function describes the behaviour of the model, they donot have any variable. methods are called by variables.\n",
    "# The method is implicitly used for an object for which it is called.\n",
    "# The method is accessible to data that is contained within the class.\n",
    "\n",
    "# ANSWER#4\n",
    "\n",
    "# class is a function of attribues and functions, it describes the contents of the objects that belong to it\n",
    "# Object is inheritance of a class \n",
    "# Attributes are the variables your class have like model name etc \n",
    "# Behaviour is the way the object can do anything\n"
   ]
  },
  {
   "cell_type": "code",
   "execution_count": 16,
   "metadata": {},
   "outputs": [],
   "source": [
    "class Car():\n",
    "    def __init__(self, name,colour,year,company,miles):\n",
    "        self.name = name\n",
    "        self.colour=colour\n",
    "        self.year = year\n",
    "        self.company = company\n",
    "        self.miles = miles\n",
    "    def description(self):\n",
    "        full_name= f\"the name of car is {self.company} {self.name} {self.year}\"\n",
    "        return full_name\n",
    "    def color(self):\n",
    "        print (f\"The colour of the car is {self.colour}\")\n",
    "    def read_odometer(self):\n",
    "        print (f\"the car has run {self.miles} miles\")"
   ]
  },
  {
   "cell_type": "code",
   "execution_count": 17,
   "metadata": {},
   "outputs": [],
   "source": [
    "Car = Car('VIGO','Black',2015,'IMC',300)"
   ]
  },
  {
   "cell_type": "code",
   "execution_count": 18,
   "metadata": {},
   "outputs": [
    {
     "data": {
      "text/plain": [
       "'the name of car is IMC VIGO 2015'"
      ]
     },
     "execution_count": 18,
     "metadata": {},
     "output_type": "execute_result"
    }
   ],
   "source": [
    "Car.description()"
   ]
  },
  {
   "cell_type": "code",
   "execution_count": 19,
   "metadata": {},
   "outputs": [
    {
     "name": "stdout",
     "output_type": "stream",
     "text": [
      "the car has run 300 miles\n"
     ]
    }
   ],
   "source": [
    "Car.read_odometer()"
   ]
  },
  {
   "cell_type": "code",
   "execution_count": 20,
   "metadata": {},
   "outputs": [
    {
     "name": "stdout",
     "output_type": "stream",
     "text": [
      "The colour of the car is Black\n"
     ]
    }
   ],
   "source": [
    "Car.color()"
   ]
  },
  {
   "cell_type": "code",
   "execution_count": null,
   "metadata": {},
   "outputs": [],
   "source": []
  }
 ],
 "metadata": {
  "kernelspec": {
   "display_name": "Python 3",
   "language": "python",
   "name": "python3"
  },
  "language_info": {
   "codemirror_mode": {
    "name": "ipython",
    "version": 3
   },
   "file_extension": ".py",
   "mimetype": "text/x-python",
   "name": "python",
   "nbconvert_exporter": "python",
   "pygments_lexer": "ipython3",
   "version": "3.6.7"
  }
 },
 "nbformat": 4,
 "nbformat_minor": 2
}
